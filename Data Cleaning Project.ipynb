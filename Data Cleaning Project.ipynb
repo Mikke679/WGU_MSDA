{
 "cells": [
  {
   "cell_type": "markdown",
   "id": "f8cf6f5d",
   "metadata": {},
   "source": [
    "# D206 Data Cleaning Performance Assessment\n",
    "\n"
   ]
  },
  {
   "cell_type": "markdown",
   "id": "23c1e7d9",
   "metadata": {},
   "source": [
    "# Part 1: Research Question\n",
    "## Research Question or Decision\n",
    "The data being studied is related to patient readmission rates and possible contributing factors. In order to reduce readmissions, thus reducing the fines to hospitals related to readmissions, we need to clean and analyze the data looking for possible ways to reduce patient readmissions. My research question is: does the patients overall satisfaction, based on the survey questions, impact their likelihood of readmission within a month of discharge.\n",
    "\n",
    "## Required Variables\n",
    "The data provided includes patient demographics, information related to their hospitalization, medical conditions, and whether or not they were readmitted. The column names and data types were pulled from the CSV file using pandas library, as shown in Larose (2019), to read the data and dftypes to output the column data type.\n"
   ]
  },
  {
   "cell_type": "code",
   "execution_count": 113,
   "id": "35710eee",
   "metadata": {},
   "outputs": [
    {
     "data": {
      "text/plain": [
       "Unnamed: 0              int64\n",
       "CaseOrder               int64\n",
       "Customer_id            object\n",
       "Interaction            object\n",
       "UID                    object\n",
       "City                   object\n",
       "State                  object\n",
       "County                 object\n",
       "Zip                     int64\n",
       "Lat                   float64\n",
       "Lng                   float64\n",
       "Population              int64\n",
       "Area                   object\n",
       "Timezone               object\n",
       "Job                    object\n",
       "Children              float64\n",
       "Age                   float64\n",
       "Education              object\n",
       "Employment             object\n",
       "Income                float64\n",
       "Marital                object\n",
       "Gender                 object\n",
       "ReAdmis                object\n",
       "VitD_levels           float64\n",
       "Doc_visits              int64\n",
       "Full_meals_eaten        int64\n",
       "VitD_supp               int64\n",
       "Soft_drink             object\n",
       "Initial_admin          object\n",
       "HighBlood              object\n",
       "Stroke                 object\n",
       "Complication_risk      object\n",
       "Overweight            float64\n",
       "Arthritis              object\n",
       "Diabetes               object\n",
       "Hyperlipidemia         object\n",
       "BackPain               object\n",
       "Anxiety               float64\n",
       "Allergic_rhinitis      object\n",
       "Reflux_esophagitis     object\n",
       "Asthma                 object\n",
       "Services               object\n",
       "Initial_days          float64\n",
       "TotalCharge           float64\n",
       "Additional_charges    float64\n",
       "Item1                   int64\n",
       "Item2                   int64\n",
       "Item3                   int64\n",
       "Item4                   int64\n",
       "Item5                   int64\n",
       "Item6                   int64\n",
       "Item7                   int64\n",
       "Item8                   int64\n",
       "dtype: object"
      ]
     },
     "execution_count": 113,
     "metadata": {},
     "output_type": "execute_result"
    }
   ],
   "source": [
    "# I need to import the csv file and the libraries necessary for data cleaning\n",
    "import pandas as pd\n",
    "import numpy as np\n",
    "\n",
    "md = pd.read_csv('medical_raw_data.csv')\n",
    "#md.columns.tolist()\n",
    "md.dtypes\n"
   ]
  },
  {
   "cell_type": "markdown",
   "id": "21603df3",
   "metadata": {},
   "source": [
    "# Plan to find Anomalies\n",
    "\n",
    "## Data Cleaning\n",
    "My goal with my data cleaning plan will be to make the code more readable and understandable, and to identify null and outlier values to address appropriately. \n",
    "\n",
    "For the data cleaning process, I will be using Python to clean the data. Python is regarded as a very easily deployed and readable coding language (Larose, 2019). It has a large amount of community resources to help an individual navigate its packages, making it a versatile tool in data cleaning. I will be utilizing both the NumPy and pandas library to import the data and to carry out various functions.\n",
    "\n",
    "I will begin by removing extraneous information in the column case number. We will not be calling individually cases during our analyses meaning this column serves us no purpose. Then I will be renaming the survey questions, marked items 1-8, to include a description of what the survey question was asking. Lastly, columns job, income, and marital status could be for the patient or for the primary insurance holder. Without being able to easily identify which individual is being measured, we will not be able to draw conclusions from the data. I will be using the pandas library data frame drop to easily drop all these columns (Pandas Development Team, 2008).\n",
    "\n",
    "Then I will re-express categorical columns as numeric values. I will be doing this for each categorical column, not including city, and county. This is due to it being unrealistic, and not beneficial, to re-express these columns due to the high variance in possible answers. Doing this will allow me to quickly analyze each column moving forward. I will be following the method outlined by Larose, by creating a dictionary then replacing values within the column using the dictionary.\n",
    "\n",
    "Before moving to outliers, I will use descriptive statistics to look if there are any values (i.e. minimum time spent in hospital) that are obviously being impacted by null values being entered as 0, or another value. I will then identify outliers and missing answers using boxplots to identify possible erroneous data. If data appears to be left blank by patient on a standard yes/no question it will be left as NaN, otherwise I will be filling using Mean Imputation. This will allow me to retain a high level of data available for analysis.\n",
    "\n",
    "## Plan to Address Null Values\n",
    "\n",
    "In order to find null values we will utilize a count method similar to Mark Needham of Big Data Zone (Needham, 2019). By doing a count of null values in each column, we can see that there are 7 columns that have null values. We will handle these columns differently depending on what kind of data they are conveying. For three of these columns children, soft drink, overweight and anxiety they are self-reported. We will move forward with the reasonable idea that the were left blank by the patient because they are not applicable to that person. This means they will be filled with 0, which references no in our dictionaries.\n",
    "\n",
    "For the values age and initial days, we will be using the mean value to fill their NaNs. We will accomplish this by using the fillna command. I believe that by filling with mean value, we can still pull accurate observations from the data and avoid dropping sever hundreds of rows. In our analysis, we should strive to keep the most number of observations possible, so we can more successfully mine and draw conclusions from the data collected. Dropping rows should only be used as a last resort where there is not enough information to impute null values from.\n",
    "\n",
    "## Outlier Detection\n",
    "\n",
    "In order to identify possible outliers, we will create histograms of columns that we will be using for analysis, or where we feel that it is most likely for outliers to exist. This includes age, children, Vitamin D levels, physician visits, initial days, and full meals eaten. These columns are either going highly likely to be used, or due to the nature of the question such as age, may be misfilled due to a typo.\n",
    "\n",
    "There appears to be quite a few data points lying outside the expected values of the Vitamin D column. We will take a closer look by pulling out rows that have a vitamin D level greater than 30. While there is around 5% of the population reported shown to be outliers, further research shows that a healthy Vitamin D level ranges from 20 ng/ml to 50ng/ml (U.S. Department of Health and Human Services, 2021). This means that these results are within the ranges we would expect to see from a healthy adult.\n"
   ]
  },
  {
   "cell_type": "code",
   "execution_count": 114,
   "id": "4ba575b8",
   "metadata": {
    "scrolled": false
   },
   "outputs": [
    {
     "data": {
      "text/plain": [
       "Customer_id            object\n",
       "City                   object\n",
       "State                  object\n",
       "County                 object\n",
       "Zip                     int64\n",
       "Population              int64\n",
       "Area                   object\n",
       "Timezone               object\n",
       "Children              float64\n",
       "Age                   float64\n",
       "Education              object\n",
       "Gender                 object\n",
       "ReAdmis                object\n",
       "VitD_levels           float64\n",
       "Doc_visits              int64\n",
       "Full_meals_eaten        int64\n",
       "VitD_supp               int64\n",
       "Soft_drink             object\n",
       "Initial_admin          object\n",
       "HighBlood              object\n",
       "Stroke                 object\n",
       "Complication_risk      object\n",
       "Overweight            float64\n",
       "Arthritis              object\n",
       "Diabetes               object\n",
       "Hyperlipidemia         object\n",
       "BackPain               object\n",
       "Anxiety               float64\n",
       "Allergic_rhinitis      object\n",
       "Reflux_esophagitis     object\n",
       "Asthma                 object\n",
       "Services               object\n",
       "Initial_days          float64\n",
       "TotalCharge           float64\n",
       "Additional_charges    float64\n",
       "Item1                   int64\n",
       "Item2                   int64\n",
       "Item3                   int64\n",
       "Item4                   int64\n",
       "Item5                   int64\n",
       "Item6                   int64\n",
       "Item7                   int64\n",
       "Item8                   int64\n",
       "dtype: object"
      ]
     },
     "execution_count": 114,
     "metadata": {},
     "output_type": "execute_result"
    }
   ],
   "source": [
    "#Drop columns described in cleaning plan then call columns to show that it has been succesfully dropped\n",
    "cmd = md.drop(columns = ['CaseOrder', 'Employment', 'Income', 'Marital', 'Job', 'Interaction', 'UID', 'Lat', 'Lng'])\n",
    "cmd.drop(columns=cmd.columns[0], axis=1, inplace=True)\n",
    "cmd.dtypes"
   ]
  },
  {
   "cell_type": "code",
   "execution_count": 115,
   "id": "11fc6140",
   "metadata": {
    "scrolled": true
   },
   "outputs": [
    {
     "data": {
      "text/plain": [
       "Customer_id            object\n",
       "City                   object\n",
       "State                  object\n",
       "County                 object\n",
       "Zip                     int64\n",
       "Population              int64\n",
       "Area                   object\n",
       "Timezone               object\n",
       "Children              float64\n",
       "Age                   float64\n",
       "Education              object\n",
       "Gender                 object\n",
       "ReAdmis                object\n",
       "VitD_levels           float64\n",
       "Doc_visits              int64\n",
       "Full_meals_eaten        int64\n",
       "VitD_supp               int64\n",
       "Soft_drink             object\n",
       "Initial_admin          object\n",
       "HighBlood              object\n",
       "Stroke                 object\n",
       "Complication_risk      object\n",
       "Overweight            float64\n",
       "Arthritis              object\n",
       "Diabetes               object\n",
       "Hyperlipidemia         object\n",
       "BackPain               object\n",
       "Anxiety               float64\n",
       "Allergic_rhinitis      object\n",
       "Reflux_esophagitis     object\n",
       "Asthma                 object\n",
       "Services               object\n",
       "Initial_days          float64\n",
       "TotalCharge           float64\n",
       "Additional_charges    float64\n",
       "AdmissionTime           int64\n",
       "TreatmentTime           int64\n",
       "Visits                  int64\n",
       "Reliability             int64\n",
       "Options                 int64\n",
       "Hours                   int64\n",
       "Courteous               int64\n",
       "ActiveListening         int64\n",
       "dtype: object"
      ]
     },
     "execution_count": 115,
     "metadata": {},
     "output_type": "execute_result"
    }
   ],
   "source": [
    "#I will be renaming each 'item' column to better reflect what question was being asked without having to reference the data sheet\n",
    "cmd.rename(columns={'Item1': 'AdmissionTime', 'Item2': 'TreatmentTime', 'Item3': 'Visits', 'Item4': 'Reliability', 'Item5': 'Options', 'Item6': 'Hours',\n",
    "           'Item7': 'Courteous', 'Item8': 'ActiveListening'}, inplace = True)\n",
    "cmd.dtypes"
   ]
  },
  {
   "cell_type": "markdown",
   "id": "f2dd7a34",
   "metadata": {},
   "source": [
    "# Reexpresion of categorical data"
   ]
  },
  {
   "cell_type": "code",
   "execution_count": 116,
   "id": "4ef8aaba",
   "metadata": {},
   "outputs": [],
   "source": [
    "#The states column includes all 50 states as well as Puerto Rico and Washington DC\n",
    "dict_state = {'State':{'AL' : 1, 'AK' : 2, 'AZ' : 3, 'AR' : 4, 'CA' : 5, 'CO' : 6, 'CT' : 7, 'DE' : 8, 'DC' : 9, 'FL' : 10, \n",
    "  'GA' : 11, 'HI' : 12, 'ID' : 13, 'IL' : 14, 'IN' : 15, 'IA' : 16, 'KS' : 17, 'KY' : 18, 'LA' : 19, 'ME' : 20, \n",
    "  'MD': 21, 'MA' : 22, 'MI' : 23, 'MN' : 24, 'MS' : 25, 'MO': 26, 'MT' : 27, 'NE' : 28, 'NV' : 29, 'NH' : 30, \n",
    "  'NJ' : 31, 'NM' : 32, 'NY' : 33, 'NC' : 34, 'ND' : 35, 'OH' : 36, 'OK' : 37, 'OR' : 38, 'PA' : 39, 'PR' : 40,\n",
    "  'RI' : 41, 'SC' : 42, 'SD' : 43, 'TN' : 44, 'TX' : 45, 'UT' : 46, 'VT' : 47, 'VA' : 48, 'WA' : 49, 'WV' : 50,\n",
    "  'WI' : 51, 'WY' : 52}}\n",
    "cmd.replace(dict_state, inplace=True)"
   ]
  },
  {
   "cell_type": "code",
   "execution_count": 117,
   "id": "a4df0154",
   "metadata": {},
   "outputs": [],
   "source": [
    "#Area is listed as rural, urban, or suburban\n",
    "dict_area = {'Area':{'Rural': 1, 'Urban': 2, 'Suburban':3}}\n",
    "cmd.replace(dict_area, inplace=True)"
   ]
  },
  {
   "cell_type": "code",
   "execution_count": 118,
   "id": "83b844ee",
   "metadata": {},
   "outputs": [],
   "source": [
    "# I will reexpress timezone based on UTC values\n",
    "dict_time = {'Timezone':{  'America/Puerto_Rico' : -4, 'America/Detroit' : -5,'America/Indiana/Indianapolis' : -5,\n",
    "'America/Indiana/Marengo' : -5,'America/Indiana/Vevay' : -5,'America/Indiana/Vincennes' : -5, 'America/Indiana/Winamac' : -5,\n",
    "'America/Kentucky/Louisville' : -5,'America/Toronto' : -5,'America/New_York' : -5,'America/Chicago' : -6,\n",
    "'America/Indiana/Knox' : -6,'America/Indiana/Tell_City' :  -6,'America/North_Dakota/New_Salem' : -6, 'America/North_Dakota/Beulah' : -6,\n",
    "'America/Menominee' : -6,'America/Boise' : -7,'America/Phoenix' : -7,'America/Denver' : -7,'America/Los_Angeles' : -8,\n",
    "'America/Anchorage' : -9, 'America/Sitka' : -9, 'America/Nome' : -9,  'America/Yakutat' : -9,'America/Adak' : -10,\n",
    "'Pacific/Honolulu' : -10}}\n",
    "cmd.replace(dict_time, inplace=True)"
   ]
  },
  {
   "cell_type": "code",
   "execution_count": 119,
   "id": "9240cd7c",
   "metadata": {},
   "outputs": [],
   "source": [
    "# For education I will be ordering the answers by number of years in school, with no education being 0 and Doctorate\n",
    "#being the highest value at 12.\n",
    "dict_edu = {'Education':{'No Schooling Completed':0, 'Nursery School to 8th Grade': 1, '9th Grade to 12th Grade, No Diploma':3,\n",
    "'GED or Alternative Credential': 4, 'Regular High School Diploma': 5,'Some College, Less than 1 Year':6,\n",
    "'Some College, 1 or More Years, No Degree': 7, \"Associate's Degree\": 8, \"Bachelor's Degree\":9,\n",
    "\"Master's Degree\":10, 'Professional School Degree':11, 'Doctorate Degree':12}}\n",
    "cmd.replace(dict_edu, inplace=True)"
   ]
  },
  {
   "cell_type": "code",
   "execution_count": 120,
   "id": "9d58fdbf",
   "metadata": {},
   "outputs": [],
   "source": [
    "dict_gender = {'Gender':{'Male': 1, 'Female': 2, 'Prefer not to answer':'3'}}\n",
    "cmd.replace(dict_gender, inplace=True)"
   ]
  },
  {
   "cell_type": "code",
   "execution_count": 121,
   "id": "d07791a5",
   "metadata": {},
   "outputs": [],
   "source": [
    "#This will be a similar dictionary to replace each yes/no questions. This will be for ReAdmis column.\n",
    "dict_admis = {'ReAdmis':{ 'Yes' : 1, 'No': 0}}\n",
    "cmd.replace(dict_admis, inplace = True)"
   ]
  },
  {
   "cell_type": "code",
   "execution_count": 122,
   "id": "62c5dde0",
   "metadata": {},
   "outputs": [],
   "source": [
    "# Soft drink intake\n",
    "dict_soft = {'Soft_drink':{ 'Yes' : 1, 'No': 0, 'NA': np.NaN}}\n",
    "cmd.replace(dict_soft, inplace = True)"
   ]
  },
  {
   "cell_type": "code",
   "execution_count": 123,
   "id": "67f861b4",
   "metadata": {},
   "outputs": [],
   "source": [
    "# initial admission status\n",
    "dict_admit = {'Initial_admin':{'Emergency Admission': 3,   'Elective Admission': 2,   'Observation Admission': 1}}\n",
    "cmd.replace(dict_admit, inplace = True)"
   ]
  },
  {
   "cell_type": "code",
   "execution_count": 124,
   "id": "3cf34616",
   "metadata": {},
   "outputs": [],
   "source": [
    "#High blood pressure\n",
    "dict_bp = {'HighBlood':{ 'Yes' : 1, 'No': 0, 'NA': np.NaN}}\n",
    "cmd.replace(dict_bp, inplace = True)"
   ]
  },
  {
   "cell_type": "code",
   "execution_count": 125,
   "id": "a71f43dd",
   "metadata": {},
   "outputs": [],
   "source": [
    "#Stroke\n",
    "dict_stroke = {'Stroke':{ 'Yes' : 1, 'No': 0, 'NA': np.NaN}}\n",
    "cmd.replace(dict_stroke, inplace = True)"
   ]
  },
  {
   "cell_type": "code",
   "execution_count": 126,
   "id": "0497505f",
   "metadata": {},
   "outputs": [],
   "source": [
    "#Complication Risk\n",
    "dict_comp = {'Complication_risk':{'Low': 1, 'Medium': 2, 'High': 3}}\n",
    "cmd.replace(dict_comp, inplace = True)"
   ]
  },
  {
   "cell_type": "code",
   "execution_count": 127,
   "id": "6d84ecbb",
   "metadata": {},
   "outputs": [],
   "source": [
    "# Athritis\n",
    "dict_ath = {'Arthritis':{'Yes' : 1, 'No': 0, 'NA': np.NaN}}\n",
    "cmd.replace(dict_ath, inplace = True)"
   ]
  },
  {
   "cell_type": "code",
   "execution_count": 128,
   "id": "b260e51e",
   "metadata": {},
   "outputs": [],
   "source": [
    "#Diabetes\n",
    "dict_dia = {'Diabetes':{'Yes' : 1, 'No': 0, 'NA': np.NaN}}\n",
    "cmd.replace(dict_dia, inplace = True)"
   ]
  },
  {
   "cell_type": "code",
   "execution_count": 129,
   "id": "0824a322",
   "metadata": {},
   "outputs": [],
   "source": [
    "#Hyperlipidemia\n",
    "dict_hype = {'Hyperlipidemia':{'Yes': 1, 'No': 0, 'NA': np.NaN}}\n",
    "cmd.replace(dict_hype, inplace = True)"
   ]
  },
  {
   "cell_type": "code",
   "execution_count": 130,
   "id": "4575a27e",
   "metadata": {},
   "outputs": [],
   "source": [
    "#Back Pain\n",
    "dict_back = {'BackPain':{'Yes': 1, 'No': 0, 'NA': np.NaN}}\n",
    "cmd.replace(dict_back, inplace = True)"
   ]
  },
  {
   "cell_type": "code",
   "execution_count": 131,
   "id": "b59a5f3c",
   "metadata": {},
   "outputs": [],
   "source": [
    "#Allergic Rhinitis\n",
    "dict_aller = {'Allergic_rhinitis':{'Yes': 1, 'No': 0, 'NA': np.NaN}}\n",
    "cmd.replace(dict_aller, inplace = True)"
   ]
  },
  {
   "cell_type": "code",
   "execution_count": 132,
   "id": "fc7ddb7f",
   "metadata": {},
   "outputs": [],
   "source": [
    "# Reflux Esophagitis \n",
    "dict_ref = {'Reflux_esophagitis':{'Yes': 1, 'No': 0, 'NA': np.NaN}}\n",
    "cmd.replace(dict_ref, inplace = True)"
   ]
  },
  {
   "cell_type": "code",
   "execution_count": 133,
   "id": "4e2d5aac",
   "metadata": {},
   "outputs": [],
   "source": [
    "#Asthma\n",
    "dict_ast = {'Asthma': {'Yes': 1, 'No': 0, 'NA': np.NaN}}\n",
    "cmd.replace(dict_ast, inplace = True)"
   ]
  },
  {
   "cell_type": "code",
   "execution_count": 134,
   "id": "3c19c43d",
   "metadata": {},
   "outputs": [],
   "source": [
    "# Services\n",
    "dict_ser = {'Services':{ 'Blood Work':1, 'Intravenous': 2, 'CT Scan': 3, 'MRI': 4}}\n",
    "cmd.replace(dict_ser, inplace = True)\n"
   ]
  },
  {
   "cell_type": "markdown",
   "id": "5dfadd96",
   "metadata": {},
   "source": [
    "# Null values"
   ]
  },
  {
   "cell_type": "code",
   "execution_count": 135,
   "id": "c3cc856b",
   "metadata": {},
   "outputs": [
    {
     "data": {
      "text/plain": [
       "Children        2588\n",
       "Age             2414\n",
       "Soft_drink      2467\n",
       "Overweight       982\n",
       "Anxiety          984\n",
       "Initial_days    1056\n",
       "dtype: int64"
      ]
     },
     "execution_count": 135,
     "metadata": {},
     "output_type": "execute_result"
    }
   ],
   "source": [
    "null_columns=cmd.columns[cmd.isnull().any()]\n",
    "cmd[null_columns].isnull().sum()"
   ]
  },
  {
   "cell_type": "code",
   "execution_count": 136,
   "id": "481f102c",
   "metadata": {},
   "outputs": [
    {
     "data": {
      "text/plain": [
       "Age             2414\n",
       "Initial_days    1056\n",
       "dtype: int64"
      ]
     },
     "execution_count": 136,
     "metadata": {},
     "output_type": "execute_result"
    }
   ],
   "source": [
    "# First we will fill the null values that we are planning to 0 out\n",
    "cmd.Children.fillna(0, inplace = True)\n",
    "cmd.Soft_drink.fillna(0, inplace = True)\n",
    "cmd.Anxiety.fillna(0, inplace = True)\n",
    "cmd.Overweight.fillna(0, inplace = True)\n",
    "\n",
    "#Check to make sure the nulls were replaced\n",
    "null_columns=cmd.columns[cmd.isnull().any()]\n",
    "cmd[null_columns].isnull().sum()"
   ]
  },
  {
   "cell_type": "code",
   "execution_count": 137,
   "id": "15a0ef3d",
   "metadata": {},
   "outputs": [],
   "source": [
    "#Replace remaining Null values with the mean value of the column\n",
    "cmd['Age'] = cmd['Age'].fillna((cmd['Age'].mean()))\n",
    "cmd['Initial_days'] = cmd['Initial_days'].fillna((cmd['Initial_days'].mean()))"
   ]
  },
  {
   "cell_type": "code",
   "execution_count": 138,
   "id": "8fd789eb",
   "metadata": {},
   "outputs": [
    {
     "data": {
      "text/plain": [
       "Series([], dtype: float64)"
      ]
     },
     "execution_count": 138,
     "metadata": {},
     "output_type": "execute_result"
    }
   ],
   "source": [
    "#Show that there are no Null values left\n",
    "null_columns=cmd.columns[cmd.isnull().any()]\n",
    "cmd[null_columns].isnull().sum()"
   ]
  },
  {
   "cell_type": "markdown",
   "id": "0c97b92f",
   "metadata": {},
   "source": [
    "# Outlier Detection\n"
   ]
  },
  {
   "cell_type": "code",
   "execution_count": 139,
   "id": "f0c14fe3",
   "metadata": {
    "scrolled": false
   },
   "outputs": [
    {
     "data": {
      "text/plain": [
       "<AxesSubplot:>"
      ]
     },
     "execution_count": 139,
     "metadata": {},
     "output_type": "execute_result"
    },
    {
     "data": {
      "image/png": "[encoded data removed]",
      "text/plain": [
       "<Figure size 432x288 with 1 Axes>"
      ]
     },
     "metadata": {
      "needs_background": "light"
     },
     "output_type": "display_data"
    }
   ],
   "source": [
    "#Using a boxplot to identify outliers in the rows most likely to contain them\n",
    "cmd.boxplot(['Age', 'Children', 'VitD_levels', 'Doc_visits', 'Initial_days', 'Full_meals_eaten'])\n"
   ]
  },
  {
   "cell_type": "code",
   "execution_count": 140,
   "id": "f3e03bd8",
   "metadata": {
    "scrolled": true
   },
   "outputs": [
    {
     "name": "stdout",
     "output_type": "stream",
     "text": [
      "11      47.813476\n",
      "94      49.256313\n",
      "106     49.205398\n",
      "147     47.757384\n",
      "170     44.553973\n",
      "          ...    \n",
      "9841    47.899167\n",
      "9907    51.202138\n",
      "9929    44.494793\n",
      "9933    45.440725\n",
      "9973    47.439599\n",
      "Name: VitD_levels, Length: 500, dtype: float64\n"
     ]
    }
   ],
   "source": [
    "# Printing the levels to show how many rows are considered outliers\n",
    "vitd_elevated = cmd[cmd['VitD_levels']>=30]\n",
    "print(vitd_elevated['VitD_levels'])"
   ]
  },
  {
   "cell_type": "code",
   "execution_count": 141,
   "id": "cb6bbd6e",
   "metadata": {
    "scrolled": false
   },
   "outputs": [
    {
     "data": {
      "text/plain": [
       "array([[<AxesSubplot:title={'center':'VitD_levels'}>]], dtype=object)"
      ]
     },
     "execution_count": 141,
     "metadata": {},
     "output_type": "execute_result"
    },
    {
     "data": {
      "image/png": "[encoded data removed]",
      "text/plain": [
       "<Figure size 432x288 with 1 Axes>"
      ]
     },
     "metadata": {
      "needs_background": "light"
     },
     "output_type": "display_data"
    }
   ],
   "source": [
    "#Histogram showing the Vitamin D levels specifically\n",
    "cmd[['VitD_levels']].hist()"
   ]
  },
  {
   "cell_type": "markdown",
   "id": "44c2d500",
   "metadata": {},
   "source": [
    "# Clean Data Save File"
   ]
  },
  {
   "cell_type": "code",
   "execution_count": 142,
   "id": "52c8bb9f",
   "metadata": {},
   "outputs": [],
   "source": [
    "cmd.to_csv('cmd_clean_data.csv')"
   ]
  },
  {
   "cell_type": "markdown",
   "id": "afae0405",
   "metadata": {},
   "source": [
    "# PCA"
   ]
  },
  {
   "cell_type": "code",
   "execution_count": 143,
   "id": "d02dfbf3",
   "metadata": {},
   "outputs": [],
   "source": [
    "# We need to import SciKit PCA\n",
    "from sklearn.decomposition import PCA"
   ]
  },
  {
   "cell_type": "code",
   "execution_count": 144,
   "id": "45240061",
   "metadata": {},
   "outputs": [],
   "source": [
    "# I will only be selecting columns that are not extraneous (location) or what we are tracking(Readmission)\n",
    "cmd_prin = cmd[['VitD_levels', 'Doc_visits','AdmissionTime', 'TreatmentTime','Visits', 'Reliability','Options','Hours', 'Courteous','ActiveListening', 'Initial_days']]"
   ]
  },
  {
   "cell_type": "code",
   "execution_count": 145,
   "id": "370c8c83",
   "metadata": {},
   "outputs": [
    {
     "data": {
      "text/html": [
       "<div>\n",
       "<style scoped>\n",
       "    .dataframe tbody tr th:only-of-type {\n",
       "        vertical-align: middle;\n",
       "    }\n",
       "\n",
       "    .dataframe tbody tr th {\n",
       "        vertical-align: top;\n",
       "    }\n",
       "\n",
       "    .dataframe thead th {\n",
       "        text-align: right;\n",
       "    }\n",
       "</style>\n",
       "<table border=\"1\" class=\"dataframe\">\n",
       "  <thead>\n",
       "    <tr style=\"text-align: right;\">\n",
       "      <th></th>\n",
       "      <th>VitD_levels</th>\n",
       "      <th>Doc_visits</th>\n",
       "      <th>AdmissionTime</th>\n",
       "      <th>TreatmentTime</th>\n",
       "      <th>Visits</th>\n",
       "      <th>Reliability</th>\n",
       "      <th>Options</th>\n",
       "      <th>Hours</th>\n",
       "      <th>Courteous</th>\n",
       "      <th>ActiveListening</th>\n",
       "      <th>Initial_days</th>\n",
       "    </tr>\n",
       "  </thead>\n",
       "  <tbody>\n",
       "    <tr>\n",
       "      <th>0</th>\n",
       "      <td>-0.239518</td>\n",
       "      <td>0.944599</td>\n",
       "      <td>-0.502730</td>\n",
       "      <td>-0.489648</td>\n",
       "      <td>-1.463173</td>\n",
       "      <td>-1.462054</td>\n",
       "      <td>0.488355</td>\n",
       "      <td>-0.506114</td>\n",
       "      <td>-0.483647</td>\n",
       "      <td>0.470397</td>\n",
       "      <td>-0.959215</td>\n",
       "    </tr>\n",
       "    <tr>\n",
       "      <th>1</th>\n",
       "      <td>-0.062177</td>\n",
       "      <td>-0.967932</td>\n",
       "      <td>-0.502730</td>\n",
       "      <td>0.476699</td>\n",
       "      <td>-0.494890</td>\n",
       "      <td>0.467923</td>\n",
       "      <td>0.488355</td>\n",
       "      <td>0.462525</td>\n",
       "      <td>-0.483647</td>\n",
       "      <td>-0.489009</td>\n",
       "      <td>-0.776442</td>\n",
       "    </tr>\n",
       "    <tr>\n",
       "      <th>2</th>\n",
       "      <td>-0.296996</td>\n",
       "      <td>-0.967932</td>\n",
       "      <td>-1.471754</td>\n",
       "      <td>0.476699</td>\n",
       "      <td>0.473394</td>\n",
       "      <td>0.467923</td>\n",
       "      <td>-0.482337</td>\n",
       "      <td>0.462525</td>\n",
       "      <td>-0.483647</td>\n",
       "      <td>-0.489009</td>\n",
       "      <td>-1.193066</td>\n",
       "    </tr>\n",
       "    <tr>\n",
       "      <th>3</th>\n",
       "      <td>-0.296373</td>\n",
       "      <td>-0.967932</td>\n",
       "      <td>-0.502730</td>\n",
       "      <td>1.443046</td>\n",
       "      <td>1.441677</td>\n",
       "      <td>-0.497066</td>\n",
       "      <td>0.488355</td>\n",
       "      <td>1.431165</td>\n",
       "      <td>1.474440</td>\n",
       "      <td>1.429802</td>\n",
       "      <td>-1.316046</td>\n",
       "    </tr>\n",
       "    <tr>\n",
       "      <th>4</th>\n",
       "      <td>-0.378112</td>\n",
       "      <td>-0.011666</td>\n",
       "      <td>-1.471754</td>\n",
       "      <td>-2.422343</td>\n",
       "      <td>-0.494890</td>\n",
       "      <td>-0.497066</td>\n",
       "      <td>1.459048</td>\n",
       "      <td>-0.506114</td>\n",
       "      <td>0.495396</td>\n",
       "      <td>-0.489009</td>\n",
       "      <td>-1.334552</td>\n",
       "    </tr>\n",
       "  </tbody>\n",
       "</table>\n",
       "</div>"
      ],
      "text/plain": [
       "   VitD_levels  Doc_visits  AdmissionTime  TreatmentTime    Visits  \\\n",
       "0    -0.239518    0.944599      -0.502730      -0.489648 -1.463173   \n",
       "1    -0.062177   -0.967932      -0.502730       0.476699 -0.494890   \n",
       "2    -0.296996   -0.967932      -1.471754       0.476699  0.473394   \n",
       "3    -0.296373   -0.967932      -0.502730       1.443046  1.441677   \n",
       "4    -0.378112   -0.011666      -1.471754      -2.422343 -0.494890   \n",
       "\n",
       "   Reliability   Options     Hours  Courteous  ActiveListening  Initial_days  \n",
       "0    -1.462054  0.488355 -0.506114  -0.483647         0.470397     -0.959215  \n",
       "1     0.467923  0.488355  0.462525  -0.483647        -0.489009     -0.776442  \n",
       "2     0.467923 -0.482337  0.462525  -0.483647        -0.489009     -1.193066  \n",
       "3    -0.497066  0.488355  1.431165   1.474440         1.429802     -1.316046  \n",
       "4    -0.497066  1.459048 -0.506114   0.495396        -0.489009     -1.334552  "
      ]
     },
     "execution_count": 145,
     "metadata": {},
     "output_type": "execute_result"
    }
   ],
   "source": [
    "# We will need the data normalized to perform the analysis\n",
    "cmd_normal = (cmd_prin - cmd_prin.mean())/cmd_prin.std()\n",
    "cmd_normal.head()\n"
   ]
  },
  {
   "cell_type": "code",
   "execution_count": 146,
   "id": "89567e64",
   "metadata": {},
   "outputs": [],
   "source": [
    "# We need to instruct on how many components we want for the PCA\n",
    "pca = PCA(n_components=cmd_prin.shape[1])"
   ]
  },
  {
   "cell_type": "code",
   "execution_count": 147,
   "id": "b31d30ca",
   "metadata": {},
   "outputs": [],
   "source": [
    "#Calling PCA on the data we would like analysed\n",
    "pca.fit(cmd_normal)\n",
    "cmd_pca = pd.DataFrame(pca.transform(cmd_normal),\n",
    "columns=['PC1','PC2','PC3','PC4','PC5','PC6','PC7','PC8','PC9', 'PC10', 'PC11'])"
   ]
  },
  {
   "cell_type": "code",
   "execution_count": 148,
   "id": "37560e94",
   "metadata": {},
   "outputs": [
    {
     "data": {
      "image/png": "[encoded data removed]",
      "text/plain": [
       "<Figure size 432x288 with 1 Axes>"
      ]
     },
     "metadata": {
      "needs_background": "light"
     },
     "output_type": "display_data"
    }
   ],
   "source": [
    "#We will call new libraries before finishing the PCA process\n",
    "import matplotlib.pyplot as plt\n",
    "import seaborn as sns\n",
    "plt.plot(pca.explained_variance_ratio_)\n",
    "plt.xlabel('number of components')\n",
    "plt.ylabel('explained variance')\n",
    "plt.show()"
   ]
  },
  {
   "cell_type": "code",
   "execution_count": 149,
   "id": "b2adfcf9",
   "metadata": {},
   "outputs": [],
   "source": [
    "# Extract Eigen Values\n",
    "cov_matrix = np.dot(cmd_normal.T, cmd_normal) / cmd_prin.shape[0]\n",
    "eigenvalues = [np.dot(eigenvector.T, np.dot(cov_matrix, eigenvector)) for eigenvector in pca.components_]"
   ]
  },
  {
   "cell_type": "code",
   "execution_count": 150,
   "id": "d7110d79",
   "metadata": {},
   "outputs": [
    {
     "data": {
      "image/png": "[encoded data removed]",
      "text/plain": [
       "<Figure size 432x288 with 1 Axes>"
      ]
     },
     "metadata": {
      "needs_background": "light"
     },
     "output_type": "display_data"
    }
   ],
   "source": [
    "#Rerun as eigenvalues\n",
    "plt.plot(eigenvalues)\n",
    "plt.xlabel('number of components')\n",
    "plt.ylabel('eigenvalue')\n",
    "plt.show()"
   ]
  },
  {
   "cell_type": "code",
   "execution_count": 151,
   "id": "4aed14f1",
   "metadata": {},
   "outputs": [
    {
     "data": {
      "text/html": [
       "<div>\n",
       "<style scoped>\n",
       "    .dataframe tbody tr th:only-of-type {\n",
       "        vertical-align: middle;\n",
       "    }\n",
       "\n",
       "    .dataframe tbody tr th {\n",
       "        vertical-align: top;\n",
       "    }\n",
       "\n",
       "    .dataframe thead th {\n",
       "        text-align: right;\n",
       "    }\n",
       "</style>\n",
       "<table border=\"1\" class=\"dataframe\">\n",
       "  <thead>\n",
       "    <tr style=\"text-align: right;\">\n",
       "      <th></th>\n",
       "      <th>PC1</th>\n",
       "      <th>PC2</th>\n",
       "      <th>PC3</th>\n",
       "      <th>PC4</th>\n",
       "      <th>PC5</th>\n",
       "      <th>PC6</th>\n",
       "      <th>PC7</th>\n",
       "      <th>PC8</th>\n",
       "      <th>PC9</th>\n",
       "      <th>PC10</th>\n",
       "      <th>PC11</th>\n",
       "    </tr>\n",
       "  </thead>\n",
       "  <tbody>\n",
       "    <tr>\n",
       "      <th>VitD_levels</th>\n",
       "      <td>-0.002600</td>\n",
       "      <td>-0.040705</td>\n",
       "      <td>-0.214855</td>\n",
       "      <td>0.975384</td>\n",
       "      <td>0.014202</td>\n",
       "      <td>-0.010693</td>\n",
       "      <td>-0.003225</td>\n",
       "      <td>-0.013590</td>\n",
       "      <td>-0.007955</td>\n",
       "      <td>0.007516</td>\n",
       "      <td>0.012958</td>\n",
       "    </tr>\n",
       "    <tr>\n",
       "      <th>Doc_visits</th>\n",
       "      <td>0.007034</td>\n",
       "      <td>-0.006297</td>\n",
       "      <td>-0.698744</td>\n",
       "      <td>-0.164756</td>\n",
       "      <td>0.694677</td>\n",
       "      <td>-0.018878</td>\n",
       "      <td>-0.027789</td>\n",
       "      <td>-0.025275</td>\n",
       "      <td>0.007672</td>\n",
       "      <td>-0.010826</td>\n",
       "      <td>-0.001895</td>\n",
       "    </tr>\n",
       "    <tr>\n",
       "      <th>AdmissionTime</th>\n",
       "      <td>0.454785</td>\n",
       "      <td>0.296496</td>\n",
       "      <td>-0.005296</td>\n",
       "      <td>0.021050</td>\n",
       "      <td>-0.008555</td>\n",
       "      <td>-0.096410</td>\n",
       "      <td>-0.075321</td>\n",
       "      <td>-0.011248</td>\n",
       "      <td>0.084957</td>\n",
       "      <td>0.184435</td>\n",
       "      <td>-0.805225</td>\n",
       "    </tr>\n",
       "    <tr>\n",
       "      <th>TreatmentTime</th>\n",
       "      <td>0.428484</td>\n",
       "      <td>0.293057</td>\n",
       "      <td>0.013954</td>\n",
       "      <td>0.002287</td>\n",
       "      <td>0.011369</td>\n",
       "      <td>-0.147109</td>\n",
       "      <td>-0.133850</td>\n",
       "      <td>-0.061524</td>\n",
       "      <td>0.102606</td>\n",
       "      <td>0.624836</td>\n",
       "      <td>0.534696</td>\n",
       "    </tr>\n",
       "    <tr>\n",
       "      <th>Visits</th>\n",
       "      <td>0.395350</td>\n",
       "      <td>0.295962</td>\n",
       "      <td>0.016778</td>\n",
       "      <td>0.009639</td>\n",
       "      <td>-0.009316</td>\n",
       "      <td>-0.205970</td>\n",
       "      <td>-0.212619</td>\n",
       "      <td>-0.238893</td>\n",
       "      <td>-0.433780</td>\n",
       "      <td>-0.621107</td>\n",
       "      <td>0.192365</td>\n",
       "    </tr>\n",
       "    <tr>\n",
       "      <th>Reliability</th>\n",
       "      <td>0.152326</td>\n",
       "      <td>-0.557738</td>\n",
       "      <td>0.017130</td>\n",
       "      <td>-0.024158</td>\n",
       "      <td>-0.040827</td>\n",
       "      <td>-0.367269</td>\n",
       "      <td>-0.362151</td>\n",
       "      <td>-0.387978</td>\n",
       "      <td>0.483170</td>\n",
       "      <td>-0.114136</td>\n",
       "      <td>-0.011542</td>\n",
       "    </tr>\n",
       "    <tr>\n",
       "      <th>Options</th>\n",
       "      <td>-0.190198</td>\n",
       "      <td>0.583678</td>\n",
       "      <td>-0.006781</td>\n",
       "      <td>0.028917</td>\n",
       "      <td>-0.004168</td>\n",
       "      <td>0.124180</td>\n",
       "      <td>0.056881</td>\n",
       "      <td>-0.133338</td>\n",
       "      <td>0.694409</td>\n",
       "      <td>-0.308248</td>\n",
       "      <td>0.092677</td>\n",
       "    </tr>\n",
       "    <tr>\n",
       "      <th>Hours</th>\n",
       "      <td>0.410486</td>\n",
       "      <td>-0.164213</td>\n",
       "      <td>-0.009383</td>\n",
       "      <td>0.005431</td>\n",
       "      <td>0.009364</td>\n",
       "      <td>-0.050131</td>\n",
       "      <td>0.061490</td>\n",
       "      <td>0.796456</td>\n",
       "      <td>0.267728</td>\n",
       "      <td>-0.276114</td>\n",
       "      <td>0.125607</td>\n",
       "    </tr>\n",
       "    <tr>\n",
       "      <th>Courteous</th>\n",
       "      <td>0.356760</td>\n",
       "      <td>-0.173727</td>\n",
       "      <td>0.014030</td>\n",
       "      <td>-0.004722</td>\n",
       "      <td>0.028904</td>\n",
       "      <td>0.038409</td>\n",
       "      <td>0.846268</td>\n",
       "      <td>-0.335556</td>\n",
       "      <td>0.069368</td>\n",
       "      <td>-0.061817</td>\n",
       "      <td>0.051092</td>\n",
       "    </tr>\n",
       "    <tr>\n",
       "      <th>ActiveListening</th>\n",
       "      <td>0.312791</td>\n",
       "      <td>-0.167104</td>\n",
       "      <td>-0.002449</td>\n",
       "      <td>0.000130</td>\n",
       "      <td>-0.000675</td>\n",
       "      <td>0.878558</td>\n",
       "      <td>-0.274192</td>\n",
       "      <td>-0.151467</td>\n",
       "      <td>0.040995</td>\n",
       "      <td>-0.038114</td>\n",
       "      <td>0.033327</td>\n",
       "    </tr>\n",
       "    <tr>\n",
       "      <th>Initial_days</th>\n",
       "      <td>-0.014870</td>\n",
       "      <td>-0.009730</td>\n",
       "      <td>0.681513</td>\n",
       "      <td>0.139527</td>\n",
       "      <td>0.717164</td>\n",
       "      <td>-0.003250</td>\n",
       "      <td>-0.030011</td>\n",
       "      <td>0.002610</td>\n",
       "      <td>0.011767</td>\n",
       "      <td>-0.007664</td>\n",
       "      <td>-0.017790</td>\n",
       "    </tr>\n",
       "  </tbody>\n",
       "</table>\n",
       "</div>"
      ],
      "text/plain": [
       "                      PC1       PC2       PC3       PC4       PC5       PC6  \\\n",
       "VitD_levels     -0.002600 -0.040705 -0.214855  0.975384  0.014202 -0.010693   \n",
       "Doc_visits       0.007034 -0.006297 -0.698744 -0.164756  0.694677 -0.018878   \n",
       "AdmissionTime    0.454785  0.296496 -0.005296  0.021050 -0.008555 -0.096410   \n",
       "TreatmentTime    0.428484  0.293057  0.013954  0.002287  0.011369 -0.147109   \n",
       "Visits           0.395350  0.295962  0.016778  0.009639 -0.009316 -0.205970   \n",
       "Reliability      0.152326 -0.557738  0.017130 -0.024158 -0.040827 -0.367269   \n",
       "Options         -0.190198  0.583678 -0.006781  0.028917 -0.004168  0.124180   \n",
       "Hours            0.410486 -0.164213 -0.009383  0.005431  0.009364 -0.050131   \n",
       "Courteous        0.356760 -0.173727  0.014030 -0.004722  0.028904  0.038409   \n",
       "ActiveListening  0.312791 -0.167104 -0.002449  0.000130 -0.000675  0.878558   \n",
       "Initial_days    -0.014870 -0.009730  0.681513  0.139527  0.717164 -0.003250   \n",
       "\n",
       "                      PC7       PC8       PC9      PC10      PC11  \n",
       "VitD_levels     -0.003225 -0.013590 -0.007955  0.007516  0.012958  \n",
       "Doc_visits      -0.027789 -0.025275  0.007672 -0.010826 -0.001895  \n",
       "AdmissionTime   -0.075321 -0.011248  0.084957  0.184435 -0.805225  \n",
       "TreatmentTime   -0.133850 -0.061524  0.102606  0.624836  0.534696  \n",
       "Visits          -0.212619 -0.238893 -0.433780 -0.621107  0.192365  \n",
       "Reliability     -0.362151 -0.387978  0.483170 -0.114136 -0.011542  \n",
       "Options          0.056881 -0.133338  0.694409 -0.308248  0.092677  \n",
       "Hours            0.061490  0.796456  0.267728 -0.276114  0.125607  \n",
       "Courteous        0.846268 -0.335556  0.069368 -0.061817  0.051092  \n",
       "ActiveListening -0.274192 -0.151467  0.040995 -0.038114  0.033327  \n",
       "Initial_days    -0.030011  0.002610  0.011767 -0.007664 -0.017790  "
      ]
     },
     "execution_count": 151,
     "metadata": {},
     "output_type": "execute_result"
    }
   ],
   "source": [
    "#Find out which three values are beneficial\n",
    "loadings = pd.DataFrame(pca.components_.T,\n",
    "columns=['PC1','PC2','PC3','PC4','PC5','PC6','PC7','PC8','PC9', 'PC10', 'PC11'],\n",
    "index=cmd_prin.columns)\n",
    "loadings"
   ]
  },
  {
   "cell_type": "markdown",
   "id": "95132778",
   "metadata": {},
   "source": [
    "# Data Cleaning Findings\n",
    "\n",
    "Several missing values were identified in the columns Children, Age, soft drink intake, Overweight, Anxiety, and Initial Days spent in hospital. We utilized the mean of the columns where there was a wide range of numeric answers possible, to maintain a high number of rows to be later analyzed. We also concluded that an individual was more likely to leave a question blank if they felt it did not apply to them. Outside of this, there were few anomalies to adress.The apparent outliers in the Vitamin D Levels, were found to be within an acceptable range of possible values upon further research.\n",
    "\n",
    "The justification of using the mean values, or filling answers as a no, comes from our inability to retroactively reach out to the patients to adress the missing values, or rerun testing. In this case I believe there was no better option to maintain the integrity of the data available moving forward.I do not believe that any of the issues that were identified will impact the data question established at the beginning of the paper.\n",
    "\n",
    "## Principal Component Analysis\n",
    "\n",
    "For the principal analysis I loaded 11 components. These are the 8 survey responses, days of intial visit, doctor visits, and vitamin d levels. For the survey responses and doctor visits, I believe that the perceived quality of care received would be an innacurate indicator of the level of treatment and service. With an increased level of treatment and face to face time with the doctor, you would logically expect to see lower readmittance. The initial visit length can clue us in to the severity of the original illnes, and the large discrepancy in vitamin d levels observed earlier in the cleaning lead me to conclude that they may play a larger roll in a patients treatment and long term health.\n",
    "\n",
    "The PCA revealed that after 4 components, we do see a high rate of return on additional components. Based on the extracted values, I belive that the following components should be considered 'most important':\n",
    "-Vitamin D Levels (based on PC4)\n",
    "-Initial Days of First Visit (PC3)\n",
    "-Presentation of Options (PC2)\n",
    "-Admission time (PC1)\n",
    "\n",
    "By moving forward with this knowledge the organization can save time and processing power by focusing on the impact of these 4 components.\n",
    "\n",
    "\n",
    "\n"
   ]
  },
  {
   "cell_type": "markdown",
   "id": "7722aabb",
   "metadata": {},
   "source": [
    "# Annotations\n",
    "Chantal D. Larose, & Daniel T. Larose. (2019). Data Science Using Python and R. Wiley.\n",
    "\n",
    "Pandas Development Team. (2008). pandas.DataFrame.drop — pandas 1.3.0 documentation. Pandas.\n",
    "    https://pandas.pydata.org/pandas-docs/stable/reference/api/pandas.DataFrame.drop.\n",
    "    \n",
    "Scikit-learn: Machine Learning in Python, Pedregosa et al., JMLR 12, pp. 2825-2830, 2011.\n",
    "\n",
    "U.S. Department of Health and Human Services. (2021, March 26). Office of Dietary Supplements - Vitamin D. NIH Office of Dietary Supplements. https://ods.od.nih.gov/factsheets/VitaminD-HealthProfessional/#h4. \n"
   ]
  },
  {
   "cell_type": "code",
   "execution_count": null,
   "id": "4b7566e7",
   "metadata": {},
   "outputs": [],
   "source": []
  }
 ],
 "metadata": {
  "kernelspec": {
   "display_name": "Python 3",
   "language": "python",
   "name": "python3"
  },
  "language_info": {
   "codemirror_mode": {
    "name": "ipython",
    "version": 3
   },
   "file_extension": ".py",
   "mimetype": "text/x-python",
   "name": "python",
   "nbconvert_exporter": "python",
   "pygments_lexer": "ipython3",
   "version": "3.8.8"
  }
 },
 "nbformat": 4,
 "nbformat_minor": 5
}
